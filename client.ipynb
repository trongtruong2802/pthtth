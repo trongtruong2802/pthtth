{
 "cells": [
  {
   "cell_type": "code",
   "execution_count": 1,
   "metadata": {},
   "outputs": [
    {
     "name": "stdout",
     "output_type": "stream",
     "text": [
      "Server đang lắng nghe...\n",
      "Kết nối từ 127.0.0.1:59505\n",
      "Đã nhận yêu cầu từ client: 1\n",
      "Đã nhận yêu cầu từ client: 2\n",
      "Đã nhận yêu cầu từ client: 3\n"
     ]
    }
   ],
   "source": [
    "import socket\n",
    "\n",
    "\n",
    "def reverse_and_capitalize(data):\n",
    "    words = data.split()\n",
    "    result = ' '.join([word.capitalize() for word in reversed(words)])\n",
    "    return result\n",
    "\n",
    "def calculate_sum(data):\n",
    "    numbers = [int(num) for num in data.split()]\n",
    "    result = sum(numbers)\n",
    "    return str(result)\n",
    "\n",
    "def main():\n",
    "    server_ip = \"127.0.0.1\"  # Địa chỉ IP của server\n",
    "    server_port = 8890       # Cổng của server\n",
    "\n",
    "    server = socket.socket(socket.AF_INET, socket.SOCK_STREAM)\n",
    "    server.bind((server_ip, server_port))\n",
    "    server.listen(5)\n",
    "    print(\"Server đang lắng nghe...\")\n",
    "\n",
    "    while True:\n",
    "        client_socket, addr = server.accept()\n",
    "        print(f\"Kết nối từ {addr[0]}:{addr[1]}\")\n",
    "        while True:\n",
    "            request = client_socket.recv(1024).decode()\n",
    "            print(f\"Đã nhận yêu cầu từ client: {request}\")\n",
    "\n",
    "            if request == \"1\":\n",
    "                client_socket.send(\"Nhập chuỗi: \".encode())\n",
    "                data = client_socket.recv(1024).decode()\n",
    "                result = reverse_and_capitalize(data)\n",
    "                client_socket.send(result.encode())\n",
    "            \n",
    "            elif request == \"2\":\n",
    "                client_socket.send(\"Nhập chuỗi số nguyên: \".encode())\n",
    "                data = client_socket.recv(1024).decode()\n",
    "                result = calculate_sum(data)\n",
    "                client_socket.send(result.encode())\n",
    "            \n",
    "            elif request == \"3\":\n",
    "                client_socket.close()\n",
    "                break\n",
    "            else:\n",
    "                result = \"Yêu cầu không hợp lệ.\"\n",
    "                client_socket.send(result.encode())\n",
    "                client_socket.close()\n",
    "if __name__ == \"__main__\":\n",
    "    main()"
   ]
  }
 ],
 "metadata": {
  "kernelspec": {
   "display_name": "Python 3",
   "language": "python",
   "name": "python3"
  },
  "language_info": {
   "codemirror_mode": {
    "name": "ipython",
    "version": 3
   },
   "file_extension": ".py",
   "mimetype": "text/x-python",
   "name": "python",
   "nbconvert_exporter": "python",
   "pygments_lexer": "ipython3",
   "version": "3.11.5"
  },
  "orig_nbformat": 4
 },
 "nbformat": 4,
 "nbformat_minor": 2
}
