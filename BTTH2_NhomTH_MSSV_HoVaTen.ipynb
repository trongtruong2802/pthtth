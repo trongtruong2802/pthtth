{
 "cells": [
  {
   "cell_type": "markdown",
   "metadata": {},
   "source": [
    "MSSV:\n",
    "\n",
    "Họ và tên:\n",
    "\n",
    "Lớp học phần:\n",
    "\n",
    "Nhóm thực hành"
   ]
  },
  {
   "cell_type": "markdown",
   "metadata": {},
   "source": [
    "# 1. Decision Making and Loops\n",
    "---"
   ]
  },
  {
   "cell_type": "markdown",
   "metadata": {},
   "source": [
    "## 1.1. Viết chương trình kiểm tra một số là số dương, số âm hay bằng không không.\n",
    "\n",
    "Sử dụng 2 dạng của câu lệnh rễ nhánh: \n",
    "\n",
    "if ... elif ... else\n",
    "\n",
    "Nested if"
   ]
  },
  {
   "cell_type": "code",
   "execution_count": 1,
   "metadata": {},
   "outputs": [],
   "source": [
    "# Dạng 1 if ... elif ... else\n"
   ]
  },
  {
   "cell_type": "code",
   "execution_count": null,
   "metadata": {},
   "outputs": [],
   "source": [
    "# Dạng 2: Nested if\n",
    "num = float(input(\"Nhập vào một số: \"))\n",
    "\n",
    "### START CODE HERE ### \n",
    "\n",
    "\n",
    "### END CODE HERE ###"
   ]
  },
  {
   "cell_type": "markdown",
   "metadata": {},
   "source": [
    "## 1.2. Viết chương trình kiểm tra một năm có phải năm nhuận không.\n",
    "\n",
    "Năm nhuận là năm chia hết cho 4, trừ những năm đầu thế kỷ (chia hết cho 100). Những năm đầu thế kỷ là năm nhuận khi nó chia hết cho 400 (ví dụ năm 2100 không phải là năm nhuận, 2104 là năm nhuận).\n",
    "\n",
    "Sử dụng 2 dạng của câu lệnh rễ nhánh: \n",
    "\n",
    "if ... elif ... else\n",
    "\n",
    "Nested if"
   ]
  },
  {
   "cell_type": "code",
   "execution_count": 3,
   "metadata": {},
   "outputs": [
    {
     "name": "stdout",
     "output_type": "stream",
     "text": [
      "Nhập năm: 2100\n",
      "2100 không là năm nhuận\n"
     ]
    }
   ],
   "source": [
    "# Sử dụng lệnh if lồng nhau\n",
    "year = int(input(\"Nhập năm: \"))\n",
    "\n",
    "if (year % 4) == 0:\n",
    "    if (year % 100) == 0:\n",
    "        if (year % 400) == 0:\n",
    "            print(\"{0} là năm nhuận\".format(year))\n",
    "        else:\n",
    "            print(\"{0} không phải là năm nhuận\".format(year))\n",
    "    else:\n",
    "        print(\"{0} là năm nhuận\".format(year))\n",
    "else:\n",
    "    print(\"{0} không phải là năm nhuận\".format(year))"
   ]
  },
  {
   "cell_type": "code",
   "execution_count": null,
   "metadata": {},
   "outputs": [],
   "source": [
    "# Sử dụng lệnh if ... elif ... else\n",
    "year = int(input(\"Nhập năm: \"))\n",
    "\n",
    "### START CODE HERE ### \n",
    "\n",
    "\n",
    "### END CODE HERE ###"
   ]
  },
  {
   "cell_type": "markdown",
   "metadata": {},
   "source": [
    "## 1.3. Viết chương trình kiểm tra một số nguyên có phải số nguyên tố không. Nếu không phải là số nguyên tố in ra lý do."
   ]
  },
  {
   "cell_type": "code",
   "execution_count": null,
   "metadata": {},
   "outputs": [],
   "source": [
    "num = int(input(\"Enter a number: \"))\n",
    "\n",
    "# Số nguyên tố phải lớn hơn 1\n",
    "if num > 1:\n",
    "    for i in range(2,num):\n",
    "        if (num % i) == 0:\n",
    "            ### START CODE HERE ### \n",
    "\n",
    "\n",
    "            ### END CODE HERE ###\n",
    "    else:\n",
    "        ### START CODE HERE ### \n",
    "\n",
    "\n",
    "        ### END CODE HERE ###\n",
    "\n",
    "else:\n",
    "    print(num,\"không phải là số nguyên tố\")"
   ]
  },
  {
   "cell_type": "markdown",
   "metadata": {},
   "source": [
    "## 1.4. Viết chương trình in ra tất cả các số nguyên tố trong khoảng (a,b)"
   ]
  },
  {
   "cell_type": "code",
   "execution_count": null,
   "metadata": {},
   "outputs": [],
   "source": [
    "# Python program to display all the prime numbers within an interval\n",
    "\n",
    "lower = 900\n",
    "upper = 1000\n",
    "\n",
    "print(\"Prime numbers between\", lower, \"and\", upper, \"are:\")\n",
    "\n",
    "for num in range(lower, upper + 1):\n",
    "    if num > 1:\n",
    "        ### START CODE HERE ### \n",
    "        # Sử dụng for ... else\n",
    "\n",
    "\n",
    "        ### END CODE HERE ###"
   ]
  },
  {
   "cell_type": "markdown",
   "metadata": {},
   "source": [
    "## 1.5. Viết chương trình in ra 5 số Armstrong bé nhất.\n",
    "\n",
    "Một số nguyên dương gồm n chữ số được gọi là số Armstrong bậc n nếu\n",
    "\n",
    "abcd... = a^n + b^n + c^n + d^n + ...\n",
    "\n",
    "VD: 153 = 1*1*1 + 5*5*5 + 3*3*3 "
   ]
  },
  {
   "cell_type": "code",
   "execution_count": null,
   "metadata": {},
   "outputs": [],
   "source": [
    "# initialize sum, count\n",
    "\n",
    "sum = 0\n",
    "count = 0\n",
    "num = 1\n",
    "\n",
    "# Biến count được sử dụng để đếm số Armstrong đã tìm được\n",
    "while count < 5:\n",
    "    # Chuyển số thành xâu và sử dụng hàm len để tính số chữ số\n",
    "    order = len(str(num))\n",
    "    \n",
    "    temp = num\n",
    "    \n",
    "    # Tính tổng mũ của các chữ số\n",
    "    while temp > 0:\n",
    "        digit = temp % 10 # Tìm chữ số cuối cùng\n",
    "        ### START CODE HERE ### \n",
    "        # Cộng thêm giá trị của chữ số vừa tìm được vào biến sum và\n",
    "        # thay đổi temp cho bước lặp tiếp theo\n",
    "\n",
    "\n",
    "        ### END CODE HERE ###\n",
    "\n",
    "    # display the result\n",
    "    if num == sum:\n",
    "        print(num)\n",
    "        count += 1\n",
    "    num += 1"
   ]
  },
  {
   "cell_type": "markdown",
   "metadata": {},
   "source": [
    "# 2. Functions\n",
    "---"
   ]
  },
  {
   "cell_type": "markdown",
   "metadata": {},
   "source": [
    "## 2.1. Viết hàm nhận vào một số nguyên, trả về giá trị True nếu nó là số nguyên tố, và False nếu nó không phải là số nguyên tố.\n",
    "\n",
    "Sử dụng code của Bài 1.3"
   ]
  },
  {
   "cell_type": "code",
   "execution_count": null,
   "metadata": {},
   "outputs": [],
   "source": [
    "def prime(n):\n",
    "    ### START CODE HERE ### \n",
    "    # Sử dụng code của Bài 1.3\n",
    "\n",
    "    ### END CODE HERE ###"
   ]
  },
  {
   "cell_type": "markdown",
   "metadata": {},
   "source": [
    "Kiểm tra hoạt động của hàm prime(n) đã viết"
   ]
  },
  {
   "cell_type": "code",
   "execution_count": null,
   "metadata": {},
   "outputs": [],
   "source": [
    "n = int(input(\"Nhập vào một số:\"))\n",
    "if prime(n):\n",
    "    print(n, 'là số nguyên tố')\n",
    "else:\n",
    "    print(n, 'không phải là số nguyên tố')"
   ]
  },
  {
   "cell_type": "markdown",
   "metadata": {},
   "source": [
    "## 2.2. Viết hàm nhận vào một số nguyên, trả về giá trị True nếu nó là số Armstrong, và False nếu nó không phải là số Armstrong.\n",
    "\n",
    "Sử dụng code của Bài 1.5"
   ]
  },
  {
   "cell_type": "code",
   "execution_count": null,
   "metadata": {},
   "outputs": [],
   "source": [
    "def armstrong(n):\n",
    "    ### START CODE HERE ### \n",
    "    # Sử dụng code của Bài 1.5\n",
    "\n",
    "    ### END CODE HERE ###"
   ]
  },
  {
   "cell_type": "markdown",
   "metadata": {},
   "source": [
    "Kiểm tra hoạt động của hàm armstrong(n) đã viết"
   ]
  },
  {
   "cell_type": "code",
   "execution_count": null,
   "metadata": {},
   "outputs": [],
   "source": [
    "n = 153\n",
    "# n = 35\n",
    "if armstrong(n):\n",
    "    print(n, 'là số armstrong')\n",
    "else:\n",
    "    print(n, 'không phải là số armstrong')"
   ]
  },
  {
   "cell_type": "markdown",
   "metadata": {},
   "source": [
    "## 2.3. Sử dụng hàm Lambda để in ra 10 lũy thừa đầu tiên của 2."
   ]
  },
  {
   "cell_type": "code",
   "execution_count": 3,
   "metadata": {},
   "outputs": [],
   "source": [
    "# Display the powers of 2 using anonymous function\n",
    "\n",
    "\n",
    "\n",
    "# use anonymous/lambda function\n"
   ]
  },
  {
   "cell_type": "markdown",
   "metadata": {},
   "source": [
    "## 2.4. Sử dụng hàm Lambda để in ra 10 số chính phương đầu tiên"
   ]
  },
  {
   "cell_type": "code",
   "execution_count": null,
   "metadata": {},
   "outputs": [],
   "source": [
    "terms = 10\n",
    "\n",
    "# use anonymous function\n",
    "\n",
    "    ### START CODE HERE ### \n",
    "    # Sử dụng kết hợp với hàm map()\n",
    "\n",
    "    ### END CODE HERE ###\n",
    "\n",
    "for i in range(terms):\n",
    "    print(result[i])"
   ]
  },
  {
   "cell_type": "markdown",
   "metadata": {},
   "source": [
    "## 2.5. Sử dụng hàm Lambda để in ra các số lẻ trong một dãy"
   ]
  },
  {
   "cell_type": "code",
   "execution_count": 2,
   "metadata": {},
   "outputs": [
    {
     "name": "stdout",
     "output_type": "stream",
     "text": [
      "Các số lẻ trong dãy [65, 39, 339, 221]\n"
     ]
    }
   ],
   "source": [
    "# Take a list of numbers\n",
    "my_list = [12, 65, 54, 39, 102, 339, 221,]\n",
    "\n",
    "# use anonymous function to filter\n",
    "result = list(filter(lambda x: (x % 2 == 1), my_list))\n",
    "\n",
    "# display the result\n",
    "print(\"Các số lẻ trong dãy\",result)"
   ]
  },
  {
   "cell_type": "markdown",
   "metadata": {},
   "source": [
    "## 2.5. Sử dụng hàm filter() để in ra các số nguyên tố trong một dãy"
   ]
  },
  {
   "cell_type": "code",
   "execution_count": null,
   "metadata": {},
   "outputs": [],
   "source": [
    "# Take a list of numbers\n",
    "my_list = [12, 65, 54, 39, 102, 339, 221,]\n",
    "\n",
    "# định nghĩa hàm nhận vào một số nguyên,\n",
    "# trả về giá trị True nếu nó là số nguyên tố,\n",
    "# và False nếu nó không phải là số nguyên tố.\n",
    "def prime(n):\n",
    "    ### START CODE HERE ### \n",
    "    \n",
    "\n",
    "    ### END CODE HERE ###\n",
    "    \n",
    "# use filter()\n",
    "    ### START CODE HERE ### \n",
    "    \n",
    "\n",
    "    ### END CODE HERE ###\n",
    "    \n",
    "# display the result\n",
    "print(\"Các số nguyên tố trong dãy\",result)"
   ]
  }
 ],
 "metadata": {
  "kernelspec": {
   "display_name": "Python 3",
   "language": "python",
   "name": "python3"
  },
  "language_info": {
   "codemirror_mode": {
    "name": "ipython",
    "version": 3
   },
   "file_extension": ".py",
   "mimetype": "text/x-python",
   "name": "python",
   "nbconvert_exporter": "python",
   "pygments_lexer": "ipython3",
   "version": "3.11.4"
  }
 },
 "nbformat": 4,
 "nbformat_minor": 2
}
