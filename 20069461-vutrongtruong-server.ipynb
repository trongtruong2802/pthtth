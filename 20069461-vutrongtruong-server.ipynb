{
 "cells": [
  {
   "cell_type": "markdown",
   "metadata": {},
   "source": [
    "Server: nhận dữ liệu được gởi đến từ Client, xử lý dữ liệu nhận được. gởi trả kết quả cho Client"
   ]
  },
  {
   "cell_type": "code",
   "execution_count": 2,
   "metadata": {},
   "outputs": [
    {
     "ename": "OSError",
     "evalue": "[WinError 10048] Only one usage of each socket address (protocol/network address/port) is normally permitted",
     "output_type": "error",
     "traceback": [
      "\u001b[1;31m---------------------------------------------------------------------------\u001b[0m",
      "\u001b[1;31mOSError\u001b[0m                                   Traceback (most recent call last)",
      "\u001b[1;32md:\\vs\\bai1\\20069461-vutrongtruong-server.ipynb Cell 2\u001b[0m line \u001b[0;36m3\n\u001b[0;32m     <a href='vscode-notebook-cell:/d%3A/vs/bai1/20069461-vutrongtruong-server.ipynb#W1sZmlsZQ%3D%3D?line=34'>35</a>\u001b[0m                 client_socket\u001b[39m.\u001b[39msend(result\u001b[39m.\u001b[39mencode())\n\u001b[0;32m     <a href='vscode-notebook-cell:/d%3A/vs/bai1/20069461-vutrongtruong-server.ipynb#W1sZmlsZQ%3D%3D?line=37'>38</a>\u001b[0m \u001b[39mif\u001b[39;00m \u001b[39m__name__\u001b[39m \u001b[39m==\u001b[39m \u001b[39m\"\u001b[39m\u001b[39m__main__\u001b[39m\u001b[39m\"\u001b[39m:\n\u001b[1;32m---> <a href='vscode-notebook-cell:/d%3A/vs/bai1/20069461-vutrongtruong-server.ipynb#W1sZmlsZQ%3D%3D?line=38'>39</a>\u001b[0m     main()\n",
      "\u001b[1;32md:\\vs\\bai1\\20069461-vutrongtruong-server.ipynb Cell 2\u001b[0m line \u001b[0;36m2\n\u001b[0;32m     <a href='vscode-notebook-cell:/d%3A/vs/bai1/20069461-vutrongtruong-server.ipynb#W1sZmlsZQ%3D%3D?line=17'>18</a>\u001b[0m server_port \u001b[39m=\u001b[39m \u001b[39m8890\u001b[39m       \u001b[39m# Cổng của server\u001b[39;00m\n\u001b[0;32m     <a href='vscode-notebook-cell:/d%3A/vs/bai1/20069461-vutrongtruong-server.ipynb#W1sZmlsZQ%3D%3D?line=19'>20</a>\u001b[0m server \u001b[39m=\u001b[39m socket\u001b[39m.\u001b[39msocket(socket\u001b[39m.\u001b[39mAF_INET, socket\u001b[39m.\u001b[39mSOCK_STREAM)\n\u001b[1;32m---> <a href='vscode-notebook-cell:/d%3A/vs/bai1/20069461-vutrongtruong-server.ipynb#W1sZmlsZQ%3D%3D?line=20'>21</a>\u001b[0m server\u001b[39m.\u001b[39;49mbind((server_ip, server_port))\n\u001b[0;32m     <a href='vscode-notebook-cell:/d%3A/vs/bai1/20069461-vutrongtruong-server.ipynb#W1sZmlsZQ%3D%3D?line=21'>22</a>\u001b[0m server\u001b[39m.\u001b[39mlisten(\u001b[39m5\u001b[39m)\n\u001b[0;32m     <a href='vscode-notebook-cell:/d%3A/vs/bai1/20069461-vutrongtruong-server.ipynb#W1sZmlsZQ%3D%3D?line=22'>23</a>\u001b[0m \u001b[39mprint\u001b[39m(\u001b[39m\"\u001b[39m\u001b[39mServer đang lắng nghe...\u001b[39m\u001b[39m\"\u001b[39m)\n",
      "\u001b[1;31mOSError\u001b[0m: [WinError 10048] Only one usage of each socket address (protocol/network address/port) is normally permitted"
     ]
    }
   ],
   "source": [
    "import socket\n",
    "\n",
    "\n",
    "def calculate_sum(data):\n",
    "    lines = data.split('\\n')  # Tách dữ liệu thành từng dòng\n",
    "    results = []\n",
    "    \n",
    "    for line in lines:\n",
    "        numbers = [int(num) for num in line.split()]  # Tách dòng thành các số\n",
    "        line_sum = sum(numbers)  # Tính tổng của dòng\n",
    "        results.append(str(line_sum))\n",
    "    \n",
    "    return '\\n'.join(results)  # Trả về kết quả dưới dạng chuỗi, mỗi kết quả trên một dòng\n",
    "\n",
    "\n",
    "def main():\n",
    "    server_ip = \"127.0.0.1\"  # Địa chỉ IP của server\n",
    "    server_port = 8890       # Cổng của server\n",
    "\n",
    "    server = socket.socket(socket.AF_INET, socket.SOCK_STREAM)\n",
    "    server.bind((server_ip, server_port))\n",
    "    server.listen(5)\n",
    "    print(\"Server đang lắng nghe...\")\n",
    "\n",
    "    while True:\n",
    "        client_socket, addr = server.accept()\n",
    "        print(f\"Kết nối từ {addr[0]}:{addr[1]}\")\n",
    "        while True:\n",
    "            \n",
    "\n",
    "            \n",
    "                \n",
    "                data = client_socket.recv(1024).decode()\n",
    "                result = calculate_sum(data)\n",
    "                client_socket.send(result.encode())\n",
    "            \n",
    "            \n",
    "if __name__ == \"__main__\":\n",
    "    main()"
   ]
  }
 ],
 "metadata": {
  "kernelspec": {
   "display_name": "Python 3",
   "language": "python",
   "name": "python3"
  },
  "language_info": {
   "codemirror_mode": {
    "name": "ipython",
    "version": 3
   },
   "file_extension": ".py",
   "mimetype": "text/x-python",
   "name": "python",
   "nbconvert_exporter": "python",
   "pygments_lexer": "ipython3",
   "version": "3.11.5"
  },
  "orig_nbformat": 4
 },
 "nbformat": 4,
 "nbformat_minor": 2
}
