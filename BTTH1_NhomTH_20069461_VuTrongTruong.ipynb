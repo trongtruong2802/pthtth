{
 "cells": [
  {
   "cell_type": "markdown",
   "metadata": {},
   "source": [
    "# Họ và tên:Vũ Trọng Trường\n",
    "# MSSV:20069461\n",
    "# Lớp học phần - Nhóm TH:2"
   ]
  },
  {
   "cell_type": "markdown",
   "metadata": {},
   "source": [
    "# 1. Hello world!"
   ]
  },
  {
   "cell_type": "code",
   "execution_count": 2,
   "metadata": {},
   "outputs": [
    {
     "name": "stdout",
     "output_type": "stream",
     "text": [
      "Hello world!\n"
     ]
    }
   ],
   "source": [
    "print(\"Hello world!\")"
   ]
  },
  {
   "cell_type": "markdown",
   "metadata": {},
   "source": [
    "# 2. Program to Add Two Numbers"
   ]
  },
  {
   "cell_type": "markdown",
   "metadata": {},
   "source": [
    "## Add Two Numbers"
   ]
  },
  {
   "cell_type": "code",
   "execution_count": 4,
   "metadata": {},
   "outputs": [
    {
     "name": "stdout",
     "output_type": "stream",
     "text": [
      "tổng 2 số là 7.8\n"
     ]
    }
   ],
   "source": [
    "num1 = 1.5\n",
    "num2 = 6.3\n",
    "\n",
    "### START CODE HERE ### \n",
    "# Add two numbers\n",
    "\n",
    "sum = num1+num2\n",
    "\n",
    "# Display the sum\n",
    "print(\"tổng 2 số là\" ,sum)"
   ]
  },
  {
   "cell_type": "markdown",
   "metadata": {},
   "source": [
    "##  Add Two Numbers With User Input"
   ]
  },
  {
   "cell_type": "code",
   "execution_count": 5,
   "metadata": {},
   "outputs": [
    {
     "name": "stdout",
     "output_type": "stream",
     "text": [
      "tổng 2 số là 12\n"
     ]
    }
   ],
   "source": [
    "# Store input numbers\n",
    "num1 = 5\n",
    "num2 = 7\n",
    "\n",
    "### START CODE HERE ### \n",
    "\n",
    "# Add two numbers\n",
    "sum = num1+num2\n",
    "\n",
    "### END CODE HERE ###\n",
    "print(\"tổng 2 số là\" , sum)\n",
    "# Display the sum\n"
   ]
  },
  {
   "cell_type": "markdown",
   "metadata": {},
   "source": [
    "# 3. Program to Find the Square Root"
   ]
  },
  {
   "cell_type": "code",
   "execution_count": 8,
   "metadata": {},
   "outputs": [
    {
     "name": "stdout",
     "output_type": "stream",
     "text": [
      "căn bậc 2 của x là : 3.0\n"
     ]
    }
   ],
   "source": [
    "# Python Program to calculate the square root\n",
    "import math\n",
    "# Note: change this value for a different result\n",
    "num = 8 \n",
    "\n",
    "# To take the input from the user\n",
    "#num = float(input('Enter a number: '))\n",
    "x=9\n",
    "# calculate the square root \n",
    "result = math.sqrt(x)\n",
    "\n",
    "# print the value of the square root\n",
    "print(\"căn bậc 2 của x là :\", result)\n"
   ]
  },
  {
   "cell_type": "markdown",
   "metadata": {},
   "source": [
    "# 4. Program to Calculate the Area of a Triangle\n",
    "s = (a+b+c)/2\n",
    "\n",
    "area = √(s(s-a)*(s-b)*(s-c))"
   ]
  },
  {
   "cell_type": "code",
   "execution_count": 10,
   "metadata": {},
   "outputs": [
    {
     "name": "stdout",
     "output_type": "stream",
     "text": [
      "The area of the triangle is 6.00\n"
     ]
    }
   ],
   "source": [
    "### START CODE HERE ### \n",
    "\n",
    "# take inputs from the user\n",
    "a = 3\n",
    "b = 4\n",
    "c = 5\n",
    "\n",
    "\n",
    "# calculate the semi-perimeter\n",
    "s = (a+b+c)/2\n",
    "\n",
    "# calculate the area\n",
    "x = (s*(s-a)*(s-b)*(s-c))\n",
    "area = math.sqrt(x)\n",
    "\n",
    "### END CODE HERE ###\n",
    "\n",
    "print('The area of the triangle is %0.2f' %area)"
   ]
  },
  {
   "cell_type": "markdown",
   "metadata": {},
   "source": [
    "# 5. Program to Solve Quadratic Equation\n",
    "ax2 + bx + c = 0, where a, b and c are real numbers and a ≠ 0"
   ]
  },
  {
   "cell_type": "code",
   "execution_count": 14,
   "metadata": {},
   "outputs": [
    {
     "name": "stdout",
     "output_type": "stream",
     "text": [
      "The solution are 8.0 and 2.0\n"
     ]
    }
   ],
   "source": [
    "import cmath\n",
    "\n",
    "### START CODE HERE ### \n",
    "\n",
    "# take inputs from the user\n",
    "a = 2\n",
    "b = -5\n",
    "c = 2\n",
    "\n",
    "# calculate the discriminant\n",
    "d = b*b-4*a*c\n",
    "\n",
    "# find two solutions using square root for real/complex number\n",
    "sol1 = (-b+math.sqrt(d))/2*a\n",
    "sol2 = (-b-math.sqrt(d))/2*a\n",
    "### END CODE HERE ###\n",
    "\n",
    "print('The solution are {0} and {1}'.format(sol1,sol2))"
   ]
  },
  {
   "cell_type": "markdown",
   "metadata": {},
   "source": [
    "# 6. Program to Swap Two Variables"
   ]
  },
  {
   "cell_type": "code",
   "execution_count": 17,
   "metadata": {},
   "outputs": [
    {
     "name": "stdout",
     "output_type": "stream",
     "text": [
      "giá trị sau hoán đổi:  2.0 1.0\n"
     ]
    }
   ],
   "source": [
    "# To take inputs from the user\n",
    "num1 = float(input(\"Enter :\"))\n",
    "num2 = float(input(\"Enter :\"))\n",
    "# create a temporary variable and swap the values\n",
    "temp = num1\n",
    "num1=num2\n",
    "num2 = temp\n",
    "# Print the c=value of x, y after swapping\n",
    "print(f\"giá trị sau hoán đổi: \",num1 , num2)\n"
   ]
  },
  {
   "cell_type": "code",
   "execution_count": 18,
   "metadata": {},
   "outputs": [
    {
     "name": "stdout",
     "output_type": "stream",
     "text": [
      "Memory address of x: 140708548044872\n",
      "Memory address of y: 2542489464240\n",
      "Memory address of temp: 2542489958464\n"
     ]
    }
   ],
   "source": [
    "### START CODE HERE ### \n",
    "# writing code to get the address (in RAM) of x, y, temp through the built-in function id()\n",
    "x = 42\n",
    "y = \"Hello, World!\"\n",
    "temp = [1, 2, 3]\n",
    "### END CODE HERE ###\n",
    "print(\"Memory address of x:\", id(x))\n",
    "print(\"Memory address of y:\", id(y))\n",
    "print(\"Memory address of temp:\", id(temp))"
   ]
  },
  {
   "cell_type": "markdown",
   "metadata": {},
   "source": [
    "# 7. Program to Generate a Random Number\n",
    "https://docs.python.org/3/library/random.html"
   ]
  },
  {
   "cell_type": "code",
   "execution_count": 44,
   "metadata": {},
   "outputs": [
    {
     "name": "stdout",
     "output_type": "stream",
     "text": [
      "3\n",
      "7\n",
      "7\n",
      "0.8763793046128422\n",
      "1.1953334083962512\n"
     ]
    }
   ],
   "source": [
    "# Program to generate a random number between 0 and 9\n",
    "\n",
    "# importing the random module\n",
    "import random\n",
    "\n",
    "print(random.randint(0,9))\n",
    "\n",
    "# Uncomment to try different function in random module\n",
    "print(random.randrange(9))\n",
    "print(random.randrange(3,9))\n",
    "print(random.random())\n",
    "print(random.uniform(a,b))"
   ]
  },
  {
   "cell_type": "markdown",
   "metadata": {},
   "source": [
    "# 8. Program to Convert Kilometers to Miles\n",
    "1 km = (1/1.609344) mi = 0.62137119 mi"
   ]
  },
  {
   "cell_type": "code",
   "execution_count": 46,
   "metadata": {},
   "outputs": [
    {
     "name": "stdout",
     "output_type": "stream",
     "text": [
      "5.00 kilometers is equal to 3.11 miles\n"
     ]
    }
   ],
   "source": [
    "# Taking kilometers input from the user\n",
    "kilometers = float(input(\"Enter value in kilometers: \"))\n",
    "\n",
    "# conversion factor\n",
    "conv_fac = 0.621371\n",
    "\n",
    "# calculate miles\n",
    "miles = kilometers * conv_fac\n",
    "print('%0.2f kilometers is equal to %0.2f miles' %(kilometers,miles))"
   ]
  },
  {
   "cell_type": "code",
   "execution_count": 47,
   "metadata": {},
   "outputs": [
    {
     "name": "stdout",
     "output_type": "stream",
     "text": [
      "3.11 miles is equal to 5.01 miles\n"
     ]
    }
   ],
   "source": [
    "### START CODE HERE ### \n",
    "# writing code to convert miles to kilometers\n",
    "miles = float(input(\"Enter : \"))\n",
    "\n",
    "kilometers = miles/conv_fac\n",
    "print(\"%0.2f miles is equal to %0.2f miles\" %(miles,kilometers))\n",
    "### END CODE HERE ###"
   ]
  },
  {
   "cell_type": "markdown",
   "metadata": {},
   "source": [
    "# 9. Program to Convert Celsius To Fahrenheit\n",
    "T(°F) = T(°C) × 1.8 + 32"
   ]
  },
  {
   "cell_type": "code",
   "execution_count": 49,
   "metadata": {},
   "outputs": [
    {
     "name": "stdout",
     "output_type": "stream",
     "text": [
      "8.0 C = 46.4 F\n"
     ]
    }
   ],
   "source": [
    "### START CODE HERE ### \n",
    "# Taking celsius input from the user\n",
    "num1 = float(input(\"nhiet do\"))\n",
    "\n",
    "# conversion factor\n",
    "factor = 1.8\n",
    "\n",
    "# calculate Fahrenheit\n",
    "fahrenheit = (num1 * factor) + 32\n",
    "\n",
    "# print result\n",
    "print(f\"{num1} C = {fahrenheit} F\")\n",
    "### END CODE HERE ###"
   ]
  }
 ],
 "metadata": {
  "kernelspec": {
   "display_name": "Python 3",
   "language": "python",
   "name": "python3"
  },
  "language_info": {
   "codemirror_mode": {
    "name": "ipython",
    "version": 3
   },
   "file_extension": ".py",
   "mimetype": "text/x-python",
   "name": "python",
   "nbconvert_exporter": "python",
   "pygments_lexer": "ipython3",
   "version": "3.11.5"
  }
 },
 "nbformat": 4,
 "nbformat_minor": 2
}
