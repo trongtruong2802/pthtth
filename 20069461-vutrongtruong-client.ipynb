{
 "cells": [
  {
   "cell_type": "markdown",
   "metadata": {},
   "source": [
    "Client: gởi một chuỗi các số nguyên đến Server yêu cầu tính tổng các số nguyên và gởi lại"
   ]
  },
  {
   "cell_type": "code",
   "execution_count": 1,
   "metadata": {},
   "outputs": [
    {
     "name": "stdout",
     "output_type": "stream",
     "text": [
      "15\n",
      "20\n",
      "25\n",
      "15\n",
      "20\n",
      "25\n"
     ]
    }
   ],
   "source": [
    "import socket\n",
    "\n",
    "\n",
    "server_ip = \"127.0.0.1\"  # Địa chỉ IP của server\n",
    "server_port = 8890       # Cổng của server\n",
    "\n",
    "client = socket.socket(socket.AF_INET, socket.SOCK_STREAM)\n",
    "client.connect((server_ip, server_port))\n",
    "\n",
    "while True:\n",
    "\n",
    "\n",
    "    data1 = input(\"Nhập chuỗi số nguyên (cách nhau bởi khoảng trắng): \")\n",
    "   \n",
    "\n",
    "    # Mở tệp \"data.txt\" và ghi dữ liệu vào tệp\n",
    "    #with open(\"data.txt\", \"w\") as file:\n",
    "     #   file.write(data1)\n",
    "    # Mở tệp \"data.txt\" và đọc nội dung từ tệp\n",
    "    with open(\"data.txt\", \"r\") as file:\n",
    "        data = file.read()\n",
    "    \n",
    "    if data == '.':\n",
    "        break\n",
    "\n",
    "    client.send(data.encode())\n",
    "    result = client.recv(1024).decode()\n",
    "    print(f\"{result}\")\n"
   ]
  }
 ],
 "metadata": {
  "kernelspec": {
   "display_name": "Python 3",
   "language": "python",
   "name": "python3"
  },
  "language_info": {
   "codemirror_mode": {
    "name": "ipython",
    "version": 3
   },
   "file_extension": ".py",
   "mimetype": "text/x-python",
   "name": "python",
   "nbconvert_exporter": "python",
   "pygments_lexer": "ipython3",
   "version": "3.11.5"
  },
  "orig_nbformat": 4
 },
 "nbformat": 4,
 "nbformat_minor": 2
}
