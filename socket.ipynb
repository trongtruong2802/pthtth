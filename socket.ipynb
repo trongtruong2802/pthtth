{
 "cells": [
  {
   "cell_type": "code",
   "execution_count": 2,
   "metadata": {},
   "outputs": [
    {
     "name": "stdout",
     "output_type": "stream",
     "text": [
      "Da chap nhan ket noi tu  ('169.254.51.163', 61636)\n",
      "hello dia chi thong tin may : 169.254.51.163\n"
     ]
    }
   ],
   "source": [
    "#SimpleServer.py\n",
    "import socket\n",
    "s = socket.socket(socket.AF_INET, socket.SOCK_STREAM)\n",
    "host = socket.gethostname()\n",
    "port = 12345\n",
    "s.bind((host, port))\n",
    "s.listen(5)\n",
    "while True:\n",
    " c, addr = s.accept()\n",
    " print(\"Da chap nhan ket noi tu \", addr)\n",
    " output = \"Cam on ban da ket noi\"\n",
    " c.sendall(output.encode(\"utf-8\"))\n",
    "\n",
    " data = c.recv(1024).decode(\"utf-8\") \n",
    " print(f\"{data}\")\n",
    " uper = data.upper()\n",
    " response = \"xin chao cam on ban da gui thong tin\" +\" \" + uper\n",
    " c.send(response.encode(\"utf-8\"))\n",
    "\n",
    "\n",
    "c.close()\n"
   ]
  }
 ],
 "metadata": {
  "kernelspec": {
   "display_name": "Python 3",
   "language": "python",
   "name": "python3"
  },
  "language_info": {
   "codemirror_mode": {
    "name": "ipython",
    "version": 3
   },
   "file_extension": ".py",
   "mimetype": "text/x-python",
   "name": "python",
   "nbconvert_exporter": "python",
   "pygments_lexer": "ipython3",
   "version": "3.11.5"
  },
  "orig_nbformat": 4
 },
 "nbformat": 4,
 "nbformat_minor": 2
}
