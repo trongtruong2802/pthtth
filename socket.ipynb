{
 "cells": [
  {
   "cell_type": "code",
   "execution_count": 1,
   "metadata": {},
   "outputs": [
    {
     "name": "stdout",
     "output_type": "stream",
     "text": [
      "Danh sách dịch vụ:\n",
      "1. Đảo ngược chuỗi đồng thời in hoa ký tự đầu của mỗi từ\n",
      "2. Tính tổng chuỗi các số nguyên (khoảng trắng)\n",
      "3. Thoát\n",
      "Nhập chuỗi: \n",
      "Chao Xin\n",
      "Danh sách dịch vụ:\n",
      "1. Đảo ngược chuỗi đồng thời in hoa ký tự đầu của mỗi từ\n",
      "2. Tính tổng chuỗi các số nguyên (khoảng trắng)\n",
      "3. Thoát\n",
      "Lựa chọn không hợp lệ. Vui lòng chọn lại.\n",
      "Danh sách dịch vụ:\n",
      "1. Đảo ngược chuỗi đồng thời in hoa ký tự đầu của mỗi từ\n",
      "2. Tính tổng chuỗi các số nguyên (khoảng trắng)\n",
      "3. Thoát\n",
      "Nhập chuỗi số nguyên: \n",
      "9\n",
      "Danh sách dịch vụ:\n",
      "1. Đảo ngược chuỗi đồng thời in hoa ký tự đầu của mỗi từ\n",
      "2. Tính tổng chuỗi các số nguyên (khoảng trắng)\n",
      "3. Thoát\n"
     ]
    }
   ],
   "source": [
    "import socket\n",
    "\n",
    "def main():\n",
    "    server_ip = \"127.0.0.1\"  # Địa chỉ IP của server\n",
    "    server_port = 8890       # Cổng của server\n",
    "\n",
    "    client = socket.socket(socket.AF_INET, socket.SOCK_STREAM)\n",
    "    client.connect((server_ip, server_port))\n",
    "\n",
    "    while True:\n",
    "        print(\"Danh sách dịch vụ:\")\n",
    "        print(\"1. Đảo ngược chuỗi đồng thời in hoa ký tự đầu của mỗi từ\")\n",
    "        print(\"2. Tính tổng chuỗi các số nguyên (khoảng trắng)\")\n",
    "        print(\"3. Thoát\")\n",
    "        choice = input(\"Chọn dịch vụ (1/2/3): \")\n",
    "\n",
    "        if choice == \"1\" or choice == \"2\" or choice == \"3\":\n",
    "            client.send(choice.encode())\n",
    "\n",
    "            if choice == \"3\":\n",
    "                client.close()\n",
    "                break\n",
    "            \n",
    "            response = client.recv(1024).decode()\n",
    "            print(response)\n",
    "            \n",
    "            if choice == \"1\":\n",
    "                data = input(\"Nhập dữ liệu: \")\n",
    "                client.send(data.encode())\n",
    "                result = client.recv(1024).decode()\n",
    "                print(result)\n",
    "                \n",
    "            elif choice == \"2\":\n",
    "                data = input(\"Nhập chuỗi số nguyên (cách nhau bởi khoảng trắng): \")\n",
    "                client.send(data.encode())\n",
    "                result = client.recv(1024).decode()\n",
    "                print(result)\n",
    "                \n",
    "        else:\n",
    "            print(\"Lựa chọn không hợp lệ. Vui lòng chọn lại.\")\n",
    "\n",
    "if __name__ == \"__main__\":\n",
    "    main()"
   ]
  }
 ],
 "metadata": {
  "kernelspec": {
   "display_name": "Python 3",
   "language": "python",
   "name": "python3"
  },
  "language_info": {
   "codemirror_mode": {
    "name": "ipython",
    "version": 3
   },
   "file_extension": ".py",
   "mimetype": "text/x-python",
   "name": "python",
   "nbconvert_exporter": "python",
   "pygments_lexer": "ipython3",
   "version": "3.11.5"
  },
  "orig_nbformat": 4
 },
 "nbformat": 4,
 "nbformat_minor": 2
}
